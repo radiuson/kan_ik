{
 "cells": [
  {
   "cell_type": "code",
   "execution_count": 7,
   "metadata": {},
   "outputs": [],
   "source": [
    "import numpy as np\n",
    "import ikpy\n",
    "\n",
    "# 定义机械臂链\n",
    "my_chain = ikpy.chain.Chain.from_urdf_file(\"/home/ihpc-zrq/kan_ik/dofbot_original.URDF\",active_links_mask=[False,True,True,True,True,False])\n",
    "\n",
    "# 生成数据集"
   ]
  }
 ],
 "metadata": {
  "kernelspec": {
   "display_name": "zrq39",
   "language": "python",
   "name": "python3"
  },
  "language_info": {
   "codemirror_mode": {
    "name": "ipython",
    "version": 3
   },
   "file_extension": ".py",
   "mimetype": "text/x-python",
   "name": "python",
   "nbconvert_exporter": "python",
   "pygments_lexer": "ipython3",
   "version": "3.9.21"
  }
 },
 "nbformat": 4,
 "nbformat_minor": 2
}
